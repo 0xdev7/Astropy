{
 "metadata": {
  "name": "SymPyModels"
 },
 "nbformat": 3,
 "nbformat_minor": 0,
 "worksheets": [
  {
   "cells": [
    {
     "cell_type": "markdown",
     "metadata": {},
     "source": [
      "#Implementing new Models and testing against SymPy\n",
      "\n",
      "This is an IPython notebook which is useful for implementing new models.\n",
      "\n",
      "##Template for implementing new 1D models:\n",
      "\n",
      "    class Name1DModel(Parametric1DModel):\n",
      "        \"\"\"\n",
      "        One dimensional Name1D model.\n",
      "    \n",
      "        Parameters\n",
      "        ---------\n",
      "    \n",
      "        Notes\n",
      "        -----\n",
      "        Model formula:\n",
      "        \n",
      "        .. math::\n",
      "    \n",
      "            f(x) = \n",
      "\n",
      "        See Also\n",
      "        --------\n",
      "            \n",
      "        \"\"\"\n",
      "        def __init__(self):\n",
      "            super(Name1DModel, self).__init__(locals())\n",
      "    \n",
      "        def eval(self, x):\n",
      "            \"\"\"\n",
      "            Model function Name1D.\n",
      "            \"\"\"\n",
      "            return []\n",
      "    \n",
      "        def deriv(self, x):\n",
      "            \"\"\"\n",
      "            Model function derivatives Name1D.\n",
      "            \"\"\"\n",
      "            return []\n",
      "\n",
      "\n",
      "If no derivative function is provided it should be removed completely!\n"
     ]
    },
    {
     "cell_type": "markdown",
     "metadata": {},
     "source": [
      "##Model derivatives and test values with SymPy\n",
      "\n",
      "For all models test values and derivatives should be provided. This can be done with this notebook and SymPy:  \n",
      "\n",
      "* Create a new cell for your model\n",
      "* Define the model parameters as SymPy symbols:  \n",
      "\n",
      "\n",
      "        A, x_0, sigma = symbols('A x_0 sigma')\n",
      "\n",
      "\n",
      "* Set the parameter values in a dict:\n",
      "\n",
      "        parameters = {A:1, x_0:0, sigma:1}  \n",
      "\n",
      "* Define the model function:\n",
      "\n",
      "        f = A * exp(-(x - x_0) ** 2 / (2 * sigma ** 2))\n",
      "\n",
      "* Define the x values, where you  want to evaluate the model:\n",
      "\n",
      "        x_values = [0, np.sqrt(2), -np.sqrt(2)]\n",
      "\n",
      "* Call eval_sympy with the following arguments:\n",
      "\n",
      "        eval_sympy(f, parameters, x_values)\n",
      "\n",
      "* Check that the formula shown is correct! Than you can copy and paste the model derivates and the Latex string in your code."
     ]
    },
    {
     "cell_type": "code",
     "collapsed": true,
     "input": [
      "from sympy import symbols, latex, diff, Symbol\n",
      "from sympy.functions import sin, cos, exp, log, sqrt\n",
      "import numpy as np\n",
      "%load_ext sympy.interactive.ipythonprinting"
     ],
     "language": "python",
     "metadata": {},
     "outputs": [],
     "prompt_number": 2
    },
    {
     "cell_type": "code",
     "collapsed": false,
     "input": [
      "x = Symbol('x')\n",
      "y = Symbol('y')"
     ],
     "language": "python",
     "metadata": {},
     "outputs": [],
     "prompt_number": 3
    },
    {
     "cell_type": "code",
     "collapsed": false,
     "input": [
      "def eval_sympy(f, parameters, x_values, y_values=None, derivative=True):\n",
      "    \"\"\"\n",
      "    Calculate model values and derivatives using sympy.\n",
      "\n",
      "    Evaluate sympy expression at given x or x and y values, calculate derivatives\n",
      "    and print latex expression of the model formula.\n",
      "    \"\"\"\n",
      "    if derivative:\n",
      "        for param in parameters.keys():\n",
      "            deriv = diff(f, param)\n",
      "            print \"d_{0} = {1}\\n\".format(param, deriv)\n",
      "                   \n",
      "    if y_values == None:\n",
      "        y_vals = []\n",
      "        # eval sympy expression\n",
      "        for x_val in x_values:\n",
      "            parameters[x] = x_val\n",
      "            y_vals.append(round(f.evalf(subs=parameters), 6))\n",
      "\n",
      "        # Output values as list and latex expression\n",
      "        print \"y_values = {0}\\n\".format(y_vals)\n",
      "        print \"Latex string: f(x) = {0}\\n\".format(latex(f).replace(\"\\\\\", \"\\\\\\\\\"))\n",
      "    else:\n",
      "        z_vals = []\n",
      "        # eval sympy expression\n",
      "        for x_val, y_val in zip(x_values, y_values):\n",
      "            parameters[x] = x_val\n",
      "            parameters[y] = y_val\n",
      "            z_vals.append(round(f.evalf(subs=parameters), 6))\n",
      "\n",
      "        # Output values as list and latex expression\n",
      "        print \"z_values = {0}\\n\".format(z_vals)\n",
      "        print \"Latex string: f(x, y) = {0}\\n\".format(latex(f).replace(\"\\\\\", \"\\\\\\\\\"))\n",
      "    return f\n"
     ],
     "language": "python",
     "metadata": {},
     "outputs": [],
     "prompt_number": 4
    },
    {
     "cell_type": "heading",
     "level": 1,
     "metadata": {},
     "source": [
      "Gaussian1DModel"
     ]
    },
    {
     "cell_type": "code",
     "collapsed": false,
     "input": [
      "A, x_0, sigma = symbols('A x_0 sigma')\n",
      "parameters = {A:1, x_0:0, sigma:1}\n",
      "f = A * exp(-(x - x_0) ** 2 / (2 * sigma ** 2))\n",
      "x_values = [0, np.sqrt(2), -np.sqrt(2)]\n",
      "eval_sympy(f, parameters, x_values)"
     ],
     "language": "python",
     "metadata": {},
     "outputs": [
      {
       "output_type": "stream",
       "stream": "stdout",
       "text": [
        "d_sigma = A*(x - x_0)**2*exp(-(x - x_0)**2/(2*sigma**2))/sigma**3\n",
        "\n",
        "d_x_0 = -A*(-2*x + 2*x_0)*exp(-(x - x_0)**2/(2*sigma**2))/(2*sigma**2)\n",
        "\n",
        "d_A = exp(-(x - x_0)**2/(2*sigma**2))\n",
        "\n",
        "y_values = [1.0, 0.367879, 0.367879]\n",
        "\n",
        "Latex string: f(x) = A e^{- \\\\frac{\\\\left(x - x_{0}\\\\right)^{2}}{2 \\\\sigma^{2}}}\n",
        "\n"
       ]
      },
      {
       "latex": [
        "$$A e^{- \\frac{\\left(x - x_{0}\\right)^{2}}{2 \\sigma^{2}}}$$"
       ],
       "output_type": "pyout",
       "png": "[encoded data removed]",
       "prompt_number": 5,
       "text": [
        "            2\n",
        "   -(x - x\u2080) \n",
        "   \u2500\u2500\u2500\u2500\u2500\u2500\u2500\u2500\u2500\u2500\n",
        "         2   \n",
        "      2\u22c5\u03c3    \n",
        "A\u22c5\u212f          "
       ]
      }
     ],
     "prompt_number": 5
    },
    {
     "cell_type": "heading",
     "level": 1,
     "metadata": {},
     "source": [
      "Gaussian2DModel"
     ]
    },
    {
     "cell_type": "code",
     "collapsed": false,
     "input": [
      "A, x_0, y_0, sigma_x, sigma_y = symbols('A x_0 y_0 sigma_x sigma_y')\n",
      "f = A * exp(-(x - x_0) **2 / (2 * sigma_x ** 2) - (y - y_0) ** 2 / (2 * sigma_y ** 2))\n",
      "parameters = {A:1, x_0:0, y_0:0, sigma_x:1, sigma_y:1}\n",
      "x_values = [0, np.sqrt(2), -np.sqrt(2)]\n",
      "y_values = [0, np.sqrt(2), -np.sqrt(2)]\n",
      "eval_sympy(f,  parameters, x_values, y_values)"
     ],
     "language": "python",
     "metadata": {},
     "outputs": [
      {
       "output_type": "stream",
       "stream": "stdout",
       "text": [
        "d_sigma_y = A*(y - y_0)**2*exp(-(y - y_0)**2/(2*sigma_y**2) - (x - x_0)**2/(2*sigma_x**2))/sigma_y**3\n",
        "\n",
        "d_y_0 = -A*(-2*y + 2*y_0)*exp(-(y - y_0)**2/(2*sigma_y**2) - (x - x_0)**2/(2*sigma_x**2))/(2*sigma_y**2)\n",
        "\n",
        "d_x_0 = -A*(-2*x + 2*x_0)*exp(-(y - y_0)**2/(2*sigma_y**2) - (x - x_0)**2/(2*sigma_x**2))/(2*sigma_x**2)\n",
        "\n",
        "d_sigma_x = A*(x - x_0)**2*exp(-(y - y_0)**2/(2*sigma_y**2) - (x - x_0)**2/(2*sigma_x**2))/sigma_x**3\n",
        "\n",
        "d_A = exp(-(y - y_0)**2/(2*sigma_y**2) - (x - x_0)**2/(2*sigma_x**2))\n",
        "\n",
        "z_values = [1.0, 0.135335, 0.135335]\n",
        "\n",
        "Latex string: f(x, y) = A e^{- \\\\frac{\\\\left(y - y_{0}\\\\right)^{2}}{2 \\\\sigma_{y}^{2}} - \\\\frac{\\\\left(x - x_{0}\\\\right)^{2}}{2 \\\\sigma_{x}^{2}}}\n",
        "\n"
       ]
      },
      {
       "latex": [
        "$$A e^{- \\frac{\\left(y - y_{0}\\right)^{2}}{2 \\sigma_{y}^{2}} - \\frac{\\left(x - x_{0}\\right)^{2}}{2 \\sigma_{x}^{2}}}$$"
       ],
       "output_type": "pyout",
       "png": "[encoded data removed]",
       "prompt_number": 6,
       "text": [
        "             2            2\n",
        "     (y - y\u2080)     (x - x\u2080) \n",
        "   - \u2500\u2500\u2500\u2500\u2500\u2500\u2500\u2500\u2500\u2500 - \u2500\u2500\u2500\u2500\u2500\u2500\u2500\u2500\u2500\n",
        "              2         2  \n",
        "     2\u22c5sigma_y      2\u22c5\u03c3\u2093   \n",
        "A\u22c5\u212f                        "
       ]
      }
     ],
     "prompt_number": 6
    },
    {
     "cell_type": "heading",
     "level": 1,
     "metadata": {},
     "source": [
      "PowerLaw1DModel"
     ]
    },
    {
     "cell_type": "code",
     "collapsed": false,
     "input": [
      "A, alpha = symbols('A alpha')\n",
      "f = A * x**(-alpha)\n",
      "parameters = {A:1, alpha:2}\n",
      "x_values = [1, 10, 100]\n",
      "eval_sympy(f,  parameters, x_values)"
     ],
     "language": "python",
     "metadata": {},
     "outputs": [
      {
       "output_type": "stream",
       "stream": "stdout",
       "text": [
        "d_alpha = -A*x**(-alpha)*log(x)\n",
        "\n",
        "d_A = x**(-alpha)\n",
        "\n",
        "y_values = [1.0, 0.01, 0.0001]\n",
        "\n",
        "Latex string: f(x) = A x^{- \\\\alpha}\n",
        "\n"
       ]
      },
      {
       "latex": [
        "$$A x^{- \\alpha}$$"
       ],
       "output_type": "pyout",
       "png": "[encoded data removed]",
       "prompt_number": 7,
       "text": [
        "   -\u03b1\n",
        "A\u22c5x  "
       ]
      }
     ],
     "prompt_number": 7
    },
    {
     "cell_type": "heading",
     "level": 1,
     "metadata": {},
     "source": [
      "MexicanHat1DModel"
     ]
    },
    {
     "cell_type": "code",
     "collapsed": false,
     "input": [
      "A, x_0, sigma = symbols('A x_0 sigma')\n",
      "f = A * (1 - (x - x_0)**2/(2*sigma**2)) * exp(-(x - x_0)**2/(2*sigma**2))\n",
      "parameters = {A:1, x_0:0, sigma:1}\n",
      "x_values = [0, 1, -1, 3, -3]\n",
      "eval_sympy(f,  parameters, x_values)"
     ],
     "language": "python",
     "metadata": {},
     "outputs": [
      {
       "output_type": "stream",
       "stream": "stdout",
       "text": [
        "d_sigma = A*(1 - (x - x_0)**2/(2*sigma**2))*(x - x_0)**2*exp(-(x - x_0)**2/(2*sigma**2))/sigma**3 + A*(x - x_0)**2*exp(-(x - x_0)**2/(2*sigma**2))/sigma**3\n",
        "\n",
        "d_x_0 = -A*(1 - (x - x_0)**2/(2*sigma**2))*(-2*x + 2*x_0)*exp(-(x - x_0)**2/(2*sigma**2))/(2*sigma**2) - A*(-2*x + 2*x_0)*exp(-(x - x_0)**2/(2*sigma**2))/(2*sigma**2)\n",
        "\n",
        "d_A = (1 - (x - x_0)**2/(2*sigma**2))*exp(-(x - x_0)**2/(2*sigma**2))\n",
        "\n",
        "y_values = [1.0, 0.303265, 0.303265, -0.038881, -0.038881]\n",
        "\n",
        "Latex string: f(x) = A \\\\left(1 - \\\\frac{\\\\left(x - x_{0}\\\\right)^{2}}{2 \\\\sigma^{2}}\\\\right) e^{- \\\\frac{\\\\left(x - x_{0}\\\\right)^{2}}{2 \\\\sigma^{2}}}\n",
        "\n"
       ]
      },
      {
       "latex": [
        "$$A \\left(1 - \\frac{\\left(x - x_{0}\\right)^{2}}{2 \\sigma^{2}}\\right) e^{- \\frac{\\left(x - x_{0}\\right)^{2}}{2 \\sigma^{2}}}$$"
       ],
       "output_type": "pyout",
       "png": "[encoded data removed]",
       "prompt_number": 8,
       "text": [
        "                            2\n",
        "                   -(x - x\u2080) \n",
        "                   \u2500\u2500\u2500\u2500\u2500\u2500\u2500\u2500\u2500\u2500\n",
        "  \u239b            2\u239e        2   \n",
        "  \u239c    (x - x\u2080) \u239f     2\u22c5\u03c3    \n",
        "A\u22c5\u239c1 - \u2500\u2500\u2500\u2500\u2500\u2500\u2500\u2500\u2500\u239f\u22c5\u212f          \n",
        "  \u239c          2  \u239f            \n",
        "  \u239d       2\u22c5\u03c3   \u23a0            "
       ]
      }
     ],
     "prompt_number": 8
    },
    {
     "cell_type": "heading",
     "level": 1,
     "metadata": {},
     "source": [
      "MexicanHat2DModel"
     ]
    },
    {
     "cell_type": "code",
     "collapsed": false,
     "input": [
      "A, x_0, y_0, sigma = symbols('A x_0 y_0 sigma')\n",
      "f = A * (1 - ((x - x_0)**2 + (y - y_0)**2)/(2*sigma**2)) * exp(-((x - x_0)**2 + (y - y_0)**2)/(2*sigma**2))\n",
      "parameters = {A:1, x_0:0, y_0:0, sigma:1}\n",
      "x_values = [0, 1, -1, 3, -3, 0, 0, 0, 0]\n",
      "y_values = [0, 0, 0, 0, 0, 1, -1, 3, -3]\n",
      "eval_sympy(f,  parameters, x_values, y_values)"
     ],
     "language": "python",
     "metadata": {},
     "outputs": [
      {
       "output_type": "stream",
       "stream": "stdout",
       "text": [
        "d_y_0 = A*(1 - ((x - x_0)**2 + (y - y_0)**2)/(2*sigma**2))*(2*y - 2*y_0)*exp((-(x - x_0)**2 - (y - y_0)**2)/(2*sigma**2))/(2*sigma**2) - A*(-2*y + 2*y_0)*exp((-(x - x_0)**2 - (y - y_0)**2)/(2*sigma**2))/(2*sigma**2)\n",
        "\n",
        "d_sigma = -A*(1 - ((x - x_0)**2 + (y - y_0)**2)/(2*sigma**2))*(-(x - x_0)**2 - (y - y_0)**2)*exp((-(x - x_0)**2 - (y - y_0)**2)/(2*sigma**2))/sigma**3 + A*((x - x_0)**2 + (y - y_0)**2)*exp((-(x - x_0)**2 - (y - y_0)**2)/(2*sigma**2))/sigma**3\n",
        "\n",
        "d_x_0 = A*(1 - ((x - x_0)**2 + (y - y_0)**2)/(2*sigma**2))*(2*x - 2*x_0)*exp((-(x - x_0)**2 - (y - y_0)**2)/(2*sigma**2))/(2*sigma**2) - A*(-2*x + 2*x_0)*exp((-(x - x_0)**2 - (y - y_0)**2)/(2*sigma**2))/(2*sigma**2)\n",
        "\n",
        "d_A = (1 - ((x - x_0)**2 + (y - y_0)**2)/(2*sigma**2))*exp((-(x - x_0)**2 - (y - y_0)**2)/(2*sigma**2))\n",
        "\n",
        "z_values = [1.0, 0.303265, 0.303265, -0.038881, -0.038881, 0.303265, 0.303265, -0.038881, -0.038881]\n",
        "\n",
        "Latex string: f(x, y) = A \\\\left(1 - \\\\frac{\\\\left(x - x_{0}\\\\right)^{2} + \\\\left(y - y_{0}\\\\right)^{2}}{2 \\\\sigma^{2}}\\\\right) e^{\\\\frac{- \\\\left(x - x_{0}\\\\right)^{2} - \\\\left(y - y_{0}\\\\right)^{2}}{2 \\\\sigma^{2}}}\n",
        "\n"
       ]
      },
      {
       "latex": [
        "$$A \\left(1 - \\frac{\\left(x - x_{0}\\right)^{2} + \\left(y - y_{0}\\right)^{2}}{2 \\sigma^{2}}\\right) e^{\\frac{- \\left(x - x_{0}\\right)^{2} - \\left(y - y_{0}\\right)^{2}}{2 \\sigma^{2}}}$$"
       ],
       "output_type": "pyout",
       "png": "[encoded data removed]",
       "prompt_number": 9,
       "text": [
        "                                         2           2\n",
        "                               - (x - x\u2080)  - (y - y\u2080) \n",
        "                               \u2500\u2500\u2500\u2500\u2500\u2500\u2500\u2500\u2500\u2500\u2500\u2500\u2500\u2500\u2500\u2500\u2500\u2500\u2500\u2500\u2500\u2500\u2500\n",
        "  \u239b            2           2\u239e               2         \n",
        "  \u239c    (x - x\u2080)  + (y - y\u2080) \u239f            2\u22c5\u03c3          \n",
        "A\u22c5\u239c1 - \u2500\u2500\u2500\u2500\u2500\u2500\u2500\u2500\u2500\u2500\u2500\u2500\u2500\u2500\u2500\u2500\u2500\u2500\u2500\u2500\u2500\u239f\u22c5\u212f                       \n",
        "  \u239c                2        \u239f                         \n",
        "  \u239d             2\u22c5\u03c3         \u23a0                         "
       ]
      }
     ],
     "prompt_number": 9
    },
    {
     "cell_type": "heading",
     "level": 1,
     "metadata": {},
     "source": [
      "Lorentz1DModel"
     ]
    },
    {
     "cell_type": "code",
     "collapsed": false,
     "input": [
      "A, x_0, gamma = symbols('A x_0 gamma')\n",
      "f = A * gamma ** 2 / ((x - x_0)**2 + gamma**2)\n",
      "parameters = {A:1, x_0:0, gamma:1}\n",
      "x_values = [0, 1, -1, 3, -3]\n",
      "eval_sympy(f,  parameters, x_values)"
     ],
     "language": "python",
     "metadata": {},
     "outputs": [
      {
       "output_type": "stream",
       "stream": "stdout",
       "text": [
        "d_gamma = -2*A*gamma**3/(gamma**2 + (x - x_0)**2)**2 + 2*A*gamma/(gamma**2 + (x - x_0)**2)\n",
        "\n",
        "d_x_0 = A*gamma**2*(2*x - 2*x_0)/(gamma**2 + (x - x_0)**2)**2\n",
        "\n",
        "d_A = gamma**2/(gamma**2 + (x - x_0)**2)\n",
        "\n",
        "y_values = [1.0, 0.5, 0.5, 0.1, 0.1]\n",
        "\n",
        "Latex string: f(x) = \\\\frac{A \\\\gamma^{2}}{\\\\gamma^{2} + \\\\left(x - x_{0}\\\\right)^{2}}\n",
        "\n"
       ]
      },
      {
       "latex": [
        "$$\\frac{A \\gamma^{2}}{\\gamma^{2} + \\left(x - x_{0}\\right)^{2}}$$"
       ],
       "output_type": "pyout",
       "png": "[encoded data removed]",
       "prompt_number": 10,
       "text": [
        "        2     \n",
        "     A\u22c5\u03b3      \n",
        "\u2500\u2500\u2500\u2500\u2500\u2500\u2500\u2500\u2500\u2500\u2500\u2500\u2500\u2500\n",
        " 2           2\n",
        "\u03b3  + (x - x\u2080) "
       ]
      }
     ],
     "prompt_number": 10
    },
    {
     "cell_type": "heading",
     "level": 1,
     "metadata": {},
     "source": [
      "Box1DModel"
     ]
    },
    {
     "cell_type": "code",
     "collapsed": false,
     "input": [
      "from sympy.functions.special.delta_functions import Heaviside\n",
      "A, x_0, width = symbols('A x_0 w')\n",
      "f = Heaviside((x - x_0) + width/2) - Heaviside((x - x_0) - width/2) \n",
      "parameters = {A:1, x_0:0, width:1}\n",
      "x_values = [0, 1, -1, 0.5, -0.5]\n",
      "eval_sympy(f,  parameters, x_values)"
     ],
     "language": "python",
     "metadata": {},
     "outputs": [
      {
       "output_type": "stream",
       "stream": "stdout",
       "text": [
        "d_w = DiracDelta(-w/2 + x - x_0)/2 + DiracDelta(w/2 + x - x_0)/2\n",
        "\n",
        "d_x_0 = DiracDelta(-w/2 + x - x_0) - DiracDelta(w/2 + x - x_0)\n",
        "\n",
        "d_A = 0\n",
        "\n",
        "y_values = [1.0, 0.0, 0.0, 0.5, 0.5]\n",
        "\n",
        "Latex string: f(x) = - \\\\operatorname{Heaviside}{\\\\left (- \\\\frac{1}{2} w + x - x_{0} \\\\right )} + \\\\operatorname{Heaviside}{\\\\left (\\\\frac{1}{2} w + x - x_{0} \\\\right )}\n",
        "\n"
       ]
      },
      {
       "latex": [
        "$$- \\operatorname{Heaviside}{\\left (- \\frac{1}{2} w + x - x_{0} \\right )} + \\operatorname{Heaviside}{\\left (\\frac{1}{2} w + x - x_{0} \\right )}$$"
       ],
       "output_type": "pyout",
       "png": "[encoded data removed]",
       "prompt_number": 11,
       "text": [
        "           \u239b  w         \u239e            \u239bw         \u239e\n",
        "- Heaviside\u239c- \u2500 + x - x\u2080\u239f + Heaviside\u239c\u2500 + x - x\u2080\u239f\n",
        "           \u239d  2         \u23a0            \u239d2         \u23a0"
       ]
      }
     ],
     "prompt_number": 11
    },
    {
     "cell_type": "heading",
     "level": 1,
     "metadata": {},
     "source": [
      "Airy2DModel"
     ]
    },
    {
     "cell_type": "code",
     "collapsed": false,
     "input": [
      "from mpmath import besseli\n",
      "A, x_0, y_0, sigma = 1, 0, 0, 1\n",
      "x_values = np.array([0.00001, 1, -1, -0.5, -0.5])\n",
      "y_values = np.array([0.00001, -1, 0.5, 0.5, -0.5])\n",
      "for x_val, y_val in zip(x_values, y_values):\n",
      "    r = np.sqrt((x_val - x_0) ** 2 + (y_val - y_0)**2) / sigma\n",
      "    print A * besseli(1, 2 * np.pi * r) / (np.pi * r)\n"
     ],
     "language": "python",
     "metadata": {},
     "outputs": [
      {
       "output_type": "stream",
       "stream": "stdout",
       "text": [
        "1.00000000098696\n",
        "208.188612035827\n",
        "45.4709437159266\n",
        "6.57543810473438\n",
        "6.57543810473438\n"
       ]
      }
     ],
     "prompt_number": 29
    },
    {
     "cell_type": "code",
     "collapsed": false,
     "input": [],
     "language": "python",
     "metadata": {},
     "outputs": []
    }
   ],
   "metadata": {}
  }
 ]
}