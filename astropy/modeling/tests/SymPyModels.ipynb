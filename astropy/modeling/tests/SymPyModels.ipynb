{
 "metadata": {
  "name": "Untitled0"
 },
 "nbformat": 3,
 "nbformat_minor": 0,
 "worksheets": [
  {
   "cells": [
    {
     "cell_type": "markdown",
     "metadata": {},
     "source": [
      "#Parametric Model Testing against SymPy\n",
      "\n",
      "This is an IPython notebook, to test parametric models against SymPy. Below you find a few examples. Just add your model."
     ]
    },
    {
     "cell_type": "code",
     "collapsed": true,
     "input": [
      "from sympy import sympify, symbols, latex, diff\n",
      "from sympy.functions import sin, cos, exp, log, sqrt\n",
      "from sympy.parsing.sympy_parser import parse_expr\n",
      "import numpy as np\n",
      "%load_ext sympy.interactive.ipythonprinting"
     ],
     "language": "python",
     "metadata": {},
     "outputs": [],
     "prompt_number": 166
    },
    {
     "cell_type": "code",
     "collapsed": false,
     "input": [
      "x = Symbol('x')\n",
      "y = Symbol('y')"
     ],
     "language": "python",
     "metadata": {},
     "outputs": [],
     "prompt_number": 167
    },
    {
     "cell_type": "code",
     "collapsed": false,
     "input": [
      "def eval_sympy(f, parameters, x_values, y_values=None, derivative=True):\n",
      "    \"\"\"\n",
      "    Calculate model values using sympy.\n",
      "\n",
      "    Evaluate sympy expression at given x or x and y values and print latex \n",
      "    expression of model formula.\n",
      "    \"\"\"\n",
      "    if derivative:\n",
      "        for param in parameters.keys():\n",
      "            deriv = diff(f, param)\n",
      "            print \"d_{0} = {1}\\n\".format(param, deriv)\n",
      "                   \n",
      "    if y_values == None:\n",
      "        y_vals = []\n",
      "        # eval sympy expression\n",
      "        for x_val in x_values:\n",
      "            parameters[x] = x_val\n",
      "            y_vals.append(round(f.evalf(subs=parameters), 6))\n",
      "\n",
      "        # Output values as list and latex expression\n",
      "        print \"y_values = {0}\\n\".format(y_vals)\n",
      "        print \"Latex string: f(x) = {0}\\n\".format(latex(func))\n",
      "    else:\n",
      "        z_vals = []\n",
      "        # eval sympy expression\n",
      "        for x_val, y_val in zip(x_values, y_values):\n",
      "            parameters[x] = x_val\n",
      "            parameters[y] = y_val\n",
      "            z_vals.append(round(f.evalf(subs=parameters), 6))\n",
      "\n",
      "        # Output values as list and latex expression\n",
      "        print \"z_values = {0}\\n\".format(z_vals)\n",
      "        print \"Latex string: f(x, y) = {0}\\n\".format(latex(func))\n",
      "    return f\n"
     ],
     "language": "python",
     "metadata": {},
     "outputs": [],
     "prompt_number": 168
    },
    {
     "cell_type": "heading",
     "level": 1,
     "metadata": {},
     "source": [
      "Gaussian1DModel"
     ]
    },
    {
     "cell_type": "code",
     "collapsed": false,
     "input": [
      "A, x_0, sigma = symbols('A x_0 sigma')\n",
      "parameters = {A:1, x_0:0, sigma:1}\n",
      "f = A * exp(-(x - x_0) ** 2 / (2 * sigma ** 2))\n",
      "x_values = [0, np.sqrt(2), -np.sqrt(2)]\n",
      "eval_sympy(f, parameters, x_values)"
     ],
     "language": "python",
     "metadata": {},
     "outputs": [
      {
       "output_type": "stream",
       "stream": "stdout",
       "text": [
        "d_sigma = A*(x - x_0)**2*exp(-(x - x_0)**2/(2*sigma**2))/sigma**3\n",
        "\n",
        "d_x_0 = -A*(-2*x + 2*x_0)*exp(-(x - x_0)**2/(2*sigma**2))/(2*sigma**2)\n",
        "\n",
        "d_A = exp(-(x - x_0)**2/(2*sigma**2))\n",
        "\n",
        "y_values = [1.0, 0.367879, 0.367879]\n",
        "\n",
        "Latex string: f(x) = A e^{- \\frac{\\left(y - y_{0}\\right)^{2}}{2 \\sigma_{y}^{2}} - \\frac{\\left(x - x_{0}\\right)^{2}}{2 \\sigma_{x}^{2}}}\n",
        "\n"
       ]
      },
      {
       "latex": [
        "$$A e^{- \\frac{\\left(x - x_{0}\\right)^{2}}{2 \\sigma^{2}}}$$"
       ],
       "output_type": "pyout",
       "png": "[encoded data removed]",
       "prompt_number": 169,
       "text": [
        "            2\n",
        "   -(x - x\u2080) \n",
        "   \u2500\u2500\u2500\u2500\u2500\u2500\u2500\u2500\u2500\u2500\n",
        "         2   \n",
        "      2\u22c5\u03c3    \n",
        "A\u22c5\u212f          "
       ]
      }
     ],
     "prompt_number": 169
    },
    {
     "cell_type": "heading",
     "level": 1,
     "metadata": {},
     "source": [
      "Gaussian2DModel"
     ]
    },
    {
     "cell_type": "code",
     "collapsed": false,
     "input": [
      "A, x_0, y_0, sigma_x, sigma_y = symbols('A x_0 y_0 sigma_x sigma_y')\n",
      "f = A * exp(-(x - x_0) **2 / (2 * sigma_x ** 2) - (y - y_0) ** 2 / (2 * sigma_y ** 2))\n",
      "parameters = {A:1, x_0:0, y_0:0, sigma_x:1, sigma_y:1}\n",
      "x_values = [0, np.sqrt(2), -np.sqrt(2)]\n",
      "y_values = [0, np.sqrt(2), -np.sqrt(2)]\n",
      "eval_sympy(f,  parameters, x_values, y_values)"
     ],
     "language": "python",
     "metadata": {},
     "outputs": [
      {
       "output_type": "stream",
       "stream": "stdout",
       "text": [
        "d_sigma_y = A*(y - y_0)**2*exp(-(y - y_0)**2/(2*sigma_y**2) - (x - x_0)**2/(2*sigma_x**2))/sigma_y**3\n",
        "\n",
        "d_y_0 = -A*(-2*y + 2*y_0)*exp(-(y - y_0)**2/(2*sigma_y**2) - (x - x_0)**2/(2*sigma_x**2))/(2*sigma_y**2)\n",
        "\n",
        "d_x_0 = -A*(-2*x + 2*x_0)*exp(-(y - y_0)**2/(2*sigma_y**2) - (x - x_0)**2/(2*sigma_x**2))/(2*sigma_x**2)\n",
        "\n",
        "d_sigma_x = A*(x - x_0)**2*exp(-(y - y_0)**2/(2*sigma_y**2) - (x - x_0)**2/(2*sigma_x**2))/sigma_x**3\n",
        "\n",
        "d_A = exp(-(y - y_0)**2/(2*sigma_y**2) - (x - x_0)**2/(2*sigma_x**2))\n",
        "\n",
        "z_values = [1.0, 0.135335, 0.135335]\n",
        "\n",
        "Latex string: f(x, y) = A e^{- \\frac{\\left(y - y_{0}\\right)^{2}}{2 \\sigma_{y}^{2}} - \\frac{\\left(x - x_{0}\\right)^{2}}{2 \\sigma_{x}^{2}}}\n",
        "\n"
       ]
      },
      {
       "latex": [
        "$$A e^{- \\frac{\\left(y - y_{0}\\right)^{2}}{2 \\sigma_{y}^{2}} - \\frac{\\left(x - x_{0}\\right)^{2}}{2 \\sigma_{x}^{2}}}$$"
       ],
       "output_type": "pyout",
       "png": "[encoded data removed]",
       "prompt_number": 170,
       "text": [
        "             2            2\n",
        "     (y - y\u2080)     (x - x\u2080) \n",
        "   - \u2500\u2500\u2500\u2500\u2500\u2500\u2500\u2500\u2500\u2500 - \u2500\u2500\u2500\u2500\u2500\u2500\u2500\u2500\u2500\n",
        "              2         2  \n",
        "     2\u22c5sigma_y      2\u22c5\u03c3\u2093   \n",
        "A\u22c5\u212f                        "
       ]
      }
     ],
     "prompt_number": 170
    },
    {
     "cell_type": "heading",
     "level": 1,
     "metadata": {},
     "source": [
      "PowerLaw1DModel"
     ]
    },
    {
     "cell_type": "code",
     "collapsed": false,
     "input": [
      "A, alpha = symbols('A alpha')\n",
      "f = A * x**(-alpha)\n",
      "parameters = {A:1, alpha:2}\n",
      "x_values = [1, 10, 100]\n",
      "eval_sympy(f,  parameters, x_values)"
     ],
     "language": "python",
     "metadata": {},
     "outputs": [
      {
       "output_type": "stream",
       "stream": "stdout",
       "text": [
        "d_alpha = -A*x**(-alpha)*log(x)\n",
        "\n",
        "d_A = x**(-alpha)\n",
        "\n",
        "y_values = [1.0, 0.01, 0.0001]\n",
        "\n",
        "Latex string: f(x) = A e^{- \\frac{\\left(y - y_{0}\\right)^{2}}{2 \\sigma_{y}^{2}} - \\frac{\\left(x - x_{0}\\right)^{2}}{2 \\sigma_{x}^{2}}}\n",
        "\n"
       ]
      },
      {
       "latex": [
        "$$A x^{- \\alpha}$$"
       ],
       "output_type": "pyout",
       "png": "[encoded data removed]",
       "prompt_number": 172,
       "text": [
        "   -\u03b1\n",
        "A\u22c5x  "
       ]
      }
     ],
     "prompt_number": 172
    },
    {
     "cell_type": "code",
     "collapsed": false,
     "input": [],
     "language": "python",
     "metadata": {},
     "outputs": []
    }
   ],
   "metadata": {}
  }
 ]
}